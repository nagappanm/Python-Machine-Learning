{
  "nbformat": 4,
  "nbformat_minor": 0,
  "metadata": {
    "kernelspec": {
      "display_name": "Python 3",
      "language": "python",
      "name": "python3"
    },
    "language_info": {
      "codemirror_mode": {
        "name": "ipython",
        "version": 3
      },
      "file_extension": ".py",
      "mimetype": "text/x-python",
      "name": "python",
      "nbconvert_exporter": "python",
      "pygments_lexer": "ipython3",
      "version": "3.7.5"
    },
    "colab": {
      "name": "Updated_3_blank_data_Multi-Label Classification with Python and Scikit-Multilearn-.ipynb",
      "provenance": [],
      "collapsed_sections": []
    }
  },
  "cells": [
    {
      "cell_type": "markdown",
      "metadata": {
        "id": "MN1Eq8O5nnVO"
      },
      "source": [
        "### Multilabel Classification with Python\n",
        "\n",
        "##### Multilabel Dataset Examples\n",
        "+ https://sci2s.ugr.es/keel/multilabel.php#sub10\n"
      ]
    },
    {
      "cell_type": "markdown",
      "metadata": {
        "id": "cFvFBa6vnnVw"
      },
      "source": [
        "\n",
        "![](https://github.com/Jcharis/Python-Machine-Learning/blob/master/Multi_Label_Text_Classification_with_Skmultilearn/multi-class_vs_multi_label_classification_jcharistech.png?raw=1)\n",
        "\n",
        "#### Solution for Multi-Label Problem\n",
        "+ Methods for solving Multi-label Classification Problems\n",
        "    + Problem Transformation\n",
        "    + Adapted Algorithm\n",
        "    + Ensemble approaches\n",
        "\n",
        "#### Problem Transformation\n",
        "+ It refers to transforming the multi-label problem into single-label problem(s) by using\n",
        "    - Binary Relevance: treats each label as a separate single class classification\n",
        "    - Classifier Chains:In this, the first classifier is trained just on the input data and then each next classifier is trained on the input space and all the previous classifiers in the chain.\n",
        "    - Label Powerset:we transform the problem into a multi-class problem with one multi-class classifier is trained on all unique label combinations found in the training data.\n",
        "\n",
        "        \n",
        "#### Adapted Algorithm\n",
        "+ adapting the algorithm to directly perform multi-label classification, rather than transforming the problem into different subsets of problems.\n",
        "   "
      ]
    },
    {
      "cell_type": "code",
      "metadata": {
        "id": "nzkRx1GHnnV0"
      },
      "source": [
        "# Load EDA Pkgs\n",
        "import pandas as pd\n",
        "import numpy as np"
      ],
      "execution_count": 248,
      "outputs": []
    },
    {
      "cell_type": "code",
      "metadata": {
        "collapsed": true,
        "jupyter": {
          "outputs_hidden": true
        },
        "id": "b9cXspDfnnV4"
      },
      "source": [
        "# Load Data Viz Pkgs\n",
        "import matplotlib.pyplot as plt\n",
        "import seaborn as sns"
      ],
      "execution_count": 249,
      "outputs": []
    },
    {
      "cell_type": "code",
      "metadata": {
        "id": "4cqoaCYVnnV-"
      },
      "source": [
        "# ML Pkgs\n",
        "from sklearn.linear_model import LogisticRegression\n",
        "from sklearn.neighbors import KNeighborsClassifier\n",
        "from sklearn.tree import DecisionTreeClassifier\n",
        "from sklearn.naive_bayes import GaussianNB,MultinomialNB\n",
        "from sklearn.metrics import accuracy_score,hamming_loss,classification_report"
      ],
      "execution_count": 250,
      "outputs": []
    },
    {
      "cell_type": "code",
      "metadata": {
        "id": "Dzp-hdwgnnWB"
      },
      "source": [
        "### Split Dataset into Train and Text\n",
        "from sklearn.model_selection import train_test_split\n",
        "# Feature engineering\n",
        "from sklearn.feature_extraction.text import TfidfVectorizer"
      ],
      "execution_count": 251,
      "outputs": []
    },
    {
      "cell_type": "code",
      "metadata": {
        "id": "2KyXyDDRnnWD"
      },
      "source": [
        "# Multi Label Pkgs\n",
        "from skmultilearn.problem_transform import BinaryRelevance\n",
        "from skmultilearn.problem_transform import ClassifierChain\n",
        "from skmultilearn.problem_transform import LabelPowerset\n",
        "from skmultilearn.adapt import MLkNN\n"
      ],
      "execution_count": 252,
      "outputs": []
    },
    {
      "cell_type": "code",
      "metadata": {
        "id": "R-p-GwPDnnWF",
        "colab": {
          "base_uri": "https://localhost:8080/"
        },
        "outputId": "bfc2b4a0-4ed8-443d-f9db-8fda83a6f6db"
      },
      "source": [
        "pip install scikit-multilearn"
      ],
      "execution_count": 253,
      "outputs": [
        {
          "output_type": "stream",
          "text": [
            "Requirement already satisfied: scikit-multilearn in /usr/local/lib/python3.7/dist-packages (0.2.0)\n"
          ],
          "name": "stdout"
        }
      ]
    },
    {
      "cell_type": "code",
      "metadata": {
        "id": "GSa_dyA7nnWH"
      },
      "source": [
        "# Load Dataset\n",
        "# df = pd.read_csv('https://raw.githubusercontent.com/nagappanm/Python-Machine-Learning/master/Multi_Label_Text_Classification_with_Skmultilearn/data/so_dataset_2_tags.csv')\n",
        "#df = pd.read_csv('https://raw.githubusercontent.com/laxmimerit/All-CSV-ML-Data-Files-Download/master/stackoverflow.csv')\n",
        "# df = pd.read_csv('https://raw.githubusercontent.com/nagappanm/Python-Machine-Learning/master/Multi_Label_Text_Classification_with_Skmultilearn/data/so_dataset_updated.csv')\n",
        "df = pd.read_csv('https://raw.githubusercontent.com/nagappanm/Python-Machine-Learning/master/Multi_Label_Text_Classification_with_Skmultilearn/data/so_dataset_updated_blank.csv')\n"
      ],
      "execution_count": 254,
      "outputs": []
    },
    {
      "cell_type": "code",
      "metadata": {
        "id": "Lu6bdoipnnWJ",
        "colab": {
          "base_uri": "https://localhost:8080/",
          "height": 198
        },
        "outputId": "34856c03-8b4f-49f9-cd6b-f8fe4cf73871"
      },
      "source": [
        "df.head()"
      ],
      "execution_count": 255,
      "outputs": [
        {
          "output_type": "execute_result",
          "data": {
            "text/html": [
              "<div>\n",
              "<style scoped>\n",
              "    .dataframe tbody tr th:only-of-type {\n",
              "        vertical-align: middle;\n",
              "    }\n",
              "\n",
              "    .dataframe tbody tr th {\n",
              "        vertical-align: top;\n",
              "    }\n",
              "\n",
              "    .dataframe thead th {\n",
              "        text-align: right;\n",
              "    }\n",
              "</style>\n",
              "<table border=\"1\" class=\"dataframe\">\n",
              "  <thead>\n",
              "    <tr style=\"text-align: right;\">\n",
              "      <th></th>\n",
              "      <th>title</th>\n",
              "      <th>tags</th>\n",
              "      <th>Tagsupdated</th>\n",
              "      <th>mysql</th>\n",
              "      <th>python</th>\n",
              "      <th>php</th>\n",
              "    </tr>\n",
              "  </thead>\n",
              "  <tbody>\n",
              "    <tr>\n",
              "      <th>0</th>\n",
              "      <td>Flask-SQLAlchemy - When are the tables/databas...</td>\n",
              "      <td>['python', 'mysql']</td>\n",
              "      <td>python, mysql</td>\n",
              "      <td>1</td>\n",
              "      <td>1</td>\n",
              "      <td>0</td>\n",
              "    </tr>\n",
              "    <tr>\n",
              "      <th>1</th>\n",
              "      <td>Combining two PHP variables for MySQL query</td>\n",
              "      <td>['php', 'mysql']</td>\n",
              "      <td>php, mysql</td>\n",
              "      <td>1</td>\n",
              "      <td>0</td>\n",
              "      <td>1</td>\n",
              "    </tr>\n",
              "    <tr>\n",
              "      <th>2</th>\n",
              "      <td>'Counting' the number of records that match a ...</td>\n",
              "      <td>['php', 'mysql']</td>\n",
              "      <td>php, mysql</td>\n",
              "      <td>1</td>\n",
              "      <td>0</td>\n",
              "      <td>1</td>\n",
              "    </tr>\n",
              "    <tr>\n",
              "      <th>3</th>\n",
              "      <td>Insert new row in a table and auto id number. ...</td>\n",
              "      <td>['php', 'mysql']</td>\n",
              "      <td>php, mysql</td>\n",
              "      <td>1</td>\n",
              "      <td>0</td>\n",
              "      <td>1</td>\n",
              "    </tr>\n",
              "    <tr>\n",
              "      <th>4</th>\n",
              "      <td>Create Multiple MySQL tables using PHP</td>\n",
              "      <td>['php', 'mysql']</td>\n",
              "      <td>php, mysql</td>\n",
              "      <td>1</td>\n",
              "      <td>0</td>\n",
              "      <td>1</td>\n",
              "    </tr>\n",
              "  </tbody>\n",
              "</table>\n",
              "</div>"
            ],
            "text/plain": [
              "                                               title  ... php\n",
              "0  Flask-SQLAlchemy - When are the tables/databas...  ...   0\n",
              "1        Combining two PHP variables for MySQL query  ...   1\n",
              "2  'Counting' the number of records that match a ...  ...   1\n",
              "3  Insert new row in a table and auto id number. ...  ...   1\n",
              "4             Create Multiple MySQL tables using PHP  ...   1\n",
              "\n",
              "[5 rows x 6 columns]"
            ]
          },
          "metadata": {
            "tags": []
          },
          "execution_count": 255
        }
      ]
    },
    {
      "cell_type": "code",
      "metadata": {
        "id": "y-MiHdq5nnWM",
        "colab": {
          "base_uri": "https://localhost:8080/",
          "height": 35
        },
        "outputId": "d45b3496-1d95-4e57-fa51-c110a45c5a45"
      },
      "source": [
        "df.loc[0].title"
      ],
      "execution_count": 256,
      "outputs": [
        {
          "output_type": "execute_result",
          "data": {
            "application/vnd.google.colaboratory.intrinsic+json": {
              "type": "string"
            },
            "text/plain": [
              "'Flask-SQLAlchemy - When are the tables/databases created and destroyed?'"
            ]
          },
          "metadata": {
            "tags": []
          },
          "execution_count": 256
        }
      ]
    },
    {
      "cell_type": "code",
      "metadata": {
        "id": "_AzjtIuYnnWO",
        "colab": {
          "base_uri": "https://localhost:8080/"
        },
        "outputId": "2d4ca747-3dc5-4e06-ba5b-d36b0e288845"
      },
      "source": [
        "df.dtypes"
      ],
      "execution_count": 257,
      "outputs": [
        {
          "output_type": "execute_result",
          "data": {
            "text/plain": [
              "title          object\n",
              "tags           object\n",
              "Tagsupdated    object\n",
              "mysql           int64\n",
              "python          int64\n",
              "php             int64\n",
              "dtype: object"
            ]
          },
          "metadata": {
            "tags": []
          },
          "execution_count": 257
        }
      ]
    },
    {
      "cell_type": "code",
      "metadata": {
        "id": "dc9Vp-83nnWQ"
      },
      "source": [
        "# Convert to Float\n",
        "df['mysql'] = df['mysql'].astype(float)"
      ],
      "execution_count": 258,
      "outputs": []
    },
    {
      "cell_type": "code",
      "metadata": {
        "id": "6dFXyIaYnnWT",
        "colab": {
          "base_uri": "https://localhost:8080/"
        },
        "outputId": "1c96337f-901c-44a4-ff79-61b6d5079798"
      },
      "source": [
        "df.dtypes"
      ],
      "execution_count": 259,
      "outputs": [
        {
          "output_type": "execute_result",
          "data": {
            "text/plain": [
              "title           object\n",
              "tags            object\n",
              "Tagsupdated     object\n",
              "mysql          float64\n",
              "python           int64\n",
              "php              int64\n",
              "dtype: object"
            ]
          },
          "metadata": {
            "tags": []
          },
          "execution_count": 259
        }
      ]
    },
    {
      "cell_type": "code",
      "metadata": {
        "id": "YFg4xV-qnnWV",
        "colab": {
          "base_uri": "https://localhost:8080/",
          "height": 354
        },
        "outputId": "87791642-521a-445e-bca8-636d9c96dd46"
      },
      "source": [
        "# Value Count \n",
        "sns.countplot(df['python'])"
      ],
      "execution_count": 260,
      "outputs": [
        {
          "output_type": "stream",
          "text": [
            "/usr/local/lib/python3.7/dist-packages/seaborn/_decorators.py:43: FutureWarning: Pass the following variable as a keyword arg: x. From version 0.12, the only valid positional argument will be `data`, and passing other arguments without an explicit keyword will result in an error or misinterpretation.\n",
            "  FutureWarning\n"
          ],
          "name": "stderr"
        },
        {
          "output_type": "execute_result",
          "data": {
            "text/plain": [
              "<matplotlib.axes._subplots.AxesSubplot at 0x7f7a5ee3db90>"
            ]
          },
          "metadata": {
            "tags": []
          },
          "execution_count": 260
        },
        {
          "output_type": "display_data",
          "data": {
            "image/png": "[encoded data removed]",
            "text/plain": [
              "<Figure size 432x288 with 1 Axes>"
            ]
          },
          "metadata": {
            "tags": [],
            "needs_background": "light"
          }
        }
      ]
    },
    {
      "cell_type": "code",
      "metadata": {
        "id": "WW1lG-nJnnWX",
        "colab": {
          "base_uri": "https://localhost:8080/",
          "height": 354
        },
        "outputId": "024f0afc-d744-4075-c1c7-7316bf0a4b19"
      },
      "source": [
        "# Value Count \n",
        "sns.countplot(df['php'])"
      ],
      "execution_count": 261,
      "outputs": [
        {
          "output_type": "stream",
          "text": [
            "/usr/local/lib/python3.7/dist-packages/seaborn/_decorators.py:43: FutureWarning: Pass the following variable as a keyword arg: x. From version 0.12, the only valid positional argument will be `data`, and passing other arguments without an explicit keyword will result in an error or misinterpretation.\n",
            "  FutureWarning\n"
          ],
          "name": "stderr"
        },
        {
          "output_type": "execute_result",
          "data": {
            "text/plain": [
              "<matplotlib.axes._subplots.AxesSubplot at 0x7f7a5ebf1390>"
            ]
          },
          "metadata": {
            "tags": []
          },
          "execution_count": 261
        },
        {
          "output_type": "display_data",
          "data": {
            "image/png": "[encoded data removed]",
            "text/plain": [
              "<Figure size 432x288 with 1 Axes>"
            ]
          },
          "metadata": {
            "tags": [],
            "needs_background": "light"
          }
        }
      ]
    },
    {
      "cell_type": "code",
      "metadata": {
        "id": "_i_1Dze8nnWa",
        "colab": {
          "base_uri": "https://localhost:8080/"
        },
        "outputId": "8ec1fc19-75c1-485f-c75b-13203a1f95f2"
      },
      "source": [
        "df['php'].value_counts()"
      ],
      "execution_count": 262,
      "outputs": [
        {
          "output_type": "execute_result",
          "data": {
            "text/plain": [
              "1    83\n",
              "0    63\n",
              "Name: php, dtype: int64"
            ]
          },
          "metadata": {
            "tags": []
          },
          "execution_count": 262
        }
      ]
    },
    {
      "cell_type": "code",
      "metadata": {
        "id": "8BoNoq1CnnWb",
        "colab": {
          "base_uri": "https://localhost:8080/",
          "height": 280
        },
        "outputId": "3817bc7a-46d4-4d8e-ed24-8aa342a1b0b0"
      },
      "source": [
        "df['php'].value_counts().plot(kind='bar')"
      ],
      "execution_count": 263,
      "outputs": [
        {
          "output_type": "execute_result",
          "data": {
            "text/plain": [
              "<matplotlib.axes._subplots.AxesSubplot at 0x7f7a5ee26fd0>"
            ]
          },
          "metadata": {
            "tags": []
          },
          "execution_count": 263
        },
        {
          "output_type": "display_data",
          "data": {
            "image/png": "[encoded data removed]",
            "text/plain": [
              "<Figure size 432x288 with 1 Axes>"
            ]
          },
          "metadata": {
            "tags": [],
            "needs_background": "light"
          }
        }
      ]
    },
    {
      "cell_type": "markdown",
      "metadata": {
        "id": "0gWolejZnnWd"
      },
      "source": [
        "### Text Preprocessing\n",
        "+ neattext : remove_stopwords\n",
        "+ pip install neattext"
      ]
    },
    {
      "cell_type": "code",
      "metadata": {
        "id": "upzC5TwYnnWe"
      },
      "source": [
        "\n",
        "import neattext as nt\n",
        "import neattext.functions as nfx"
      ],
      "execution_count": 264,
      "outputs": []
    },
    {
      "cell_type": "code",
      "metadata": {
        "colab": {
          "base_uri": "https://localhost:8080/"
        },
        "id": "z-vZmVf5ye-1",
        "outputId": "3b6c7b4d-7cfa-461e-e0df-9732063bca7a"
      },
      "source": [
        "pip install neattext"
      ],
      "execution_count": 265,
      "outputs": [
        {
          "output_type": "stream",
          "text": [
            "Requirement already satisfied: neattext in /usr/local/lib/python3.7/dist-packages (0.1.0)\n"
          ],
          "name": "stdout"
        }
      ]
    },
    {
      "cell_type": "code",
      "metadata": {
        "collapsed": true,
        "jupyter": {
          "outputs_hidden": true
        },
        "id": "HVytnRpinnWf",
        "colab": {
          "base_uri": "https://localhost:8080/"
        },
        "outputId": "8dd322b8-d4b8-4b04-fd43-e5376f771829"
      },
      "source": [
        "# Explore For Noise\n",
        "df['title'].apply(lambda x:nt.TextFrame(x).noise_scan())"
      ],
      "execution_count": 266,
      "outputs": [
        {
          "output_type": "execute_result",
          "data": {
            "text/plain": [
              "0      {'text_noise': 11.267605633802818, 'text_lengt...\n",
              "1      {'text_noise': 4.651162790697675, 'text_length...\n",
              "2      {'text_noise': 9.90990990990991, 'text_length'...\n",
              "3      {'text_noise': 8.47457627118644, 'text_length'...\n",
              "4      {'text_noise': 2.631578947368421, 'text_length...\n",
              "                             ...                        \n",
              "141    {'text_noise': 6.666666666666667, 'text_length...\n",
              "142    {'text_noise': 13.636363636363635, 'text_lengt...\n",
              "143    {'text_noise': 7.142857142857142, 'text_length...\n",
              "144    {'text_noise': 7.142857142857142, 'text_length...\n",
              "145    {'text_noise': 7.142857142857142, 'text_length...\n",
              "Name: title, Length: 146, dtype: object"
            ]
          },
          "metadata": {
            "tags": []
          },
          "execution_count": 266
        }
      ]
    },
    {
      "cell_type": "code",
      "metadata": {
        "id": "kDts6TaQnnWh",
        "colab": {
          "base_uri": "https://localhost:8080/"
        },
        "outputId": "014eebce-e7df-4c22-b8a3-e153329006e9"
      },
      "source": [
        "# Explore For Noise\n",
        "df['title'].apply(lambda x:nt.TextExtractor(x).extract_stopwords())"
      ],
      "execution_count": 267,
      "outputs": [
        {
          "output_type": "execute_result",
          "data": {
            "text/plain": [
              "0                                [when, are, the, and]\n",
              "1                                           [two, for]\n",
              "2                    [the, of, that, a, and, the, and]\n",
              "3                                    [in, a, and, and]\n",
              "4                                              [using]\n",
              "                            ...                       \n",
              "141                                  [and, get, using]\n",
              "142    [how, to, the, of, a, with, a, back, into, the]\n",
              "143                                           [in, if]\n",
              "144                                           [in, if]\n",
              "145                                           [in, if]\n",
              "Name: title, Length: 146, dtype: object"
            ]
          },
          "metadata": {
            "tags": []
          },
          "execution_count": 267
        }
      ]
    },
    {
      "cell_type": "code",
      "metadata": {
        "collapsed": true,
        "jupyter": {
          "outputs_hidden": true
        },
        "id": "8GCniy8YnnWi",
        "colab": {
          "base_uri": "https://localhost:8080/"
        },
        "outputId": "d6d77f6c-3ba7-46d4-e07a-55b179ab28bd"
      },
      "source": [
        "dir(nfx)"
      ],
      "execution_count": 268,
      "outputs": [
        {
          "output_type": "execute_result",
          "data": {
            "text/plain": [
              "['BTC_ADDRESS_REGEX',\n",
              " 'CURRENCY_REGEX',\n",
              " 'CURRENCY_SYMB_REGEX',\n",
              " 'Counter',\n",
              " 'DATE_REGEX',\n",
              " 'EMAIL_REGEX',\n",
              " 'EMOJI_REGEX',\n",
              " 'HASTAG_REGEX',\n",
              " 'MASTERCard_REGEX',\n",
              " 'MD5_SHA_REGEX',\n",
              " 'MOST_COMMON_PUNCT_REGEX',\n",
              " 'NUMBERS_REGEX',\n",
              " 'PHONE_REGEX',\n",
              " 'PoBOX_REGEX',\n",
              " 'SPECIAL_CHARACTERS_REGEX',\n",
              " 'STOPWORDS',\n",
              " 'STOPWORDS_de',\n",
              " 'STOPWORDS_en',\n",
              " 'STOPWORDS_es',\n",
              " 'STOPWORDS_fr',\n",
              " 'STOPWORDS_ru',\n",
              " 'STOPWORDS_yo',\n",
              " 'STREET_ADDRESS_REGEX',\n",
              " 'TextFrame',\n",
              " 'URL_PATTERN',\n",
              " 'USER_HANDLES_REGEX',\n",
              " 'VISACard_REGEX',\n",
              " '__builtins__',\n",
              " '__cached__',\n",
              " '__doc__',\n",
              " '__file__',\n",
              " '__generate_text',\n",
              " '__loader__',\n",
              " '__name__',\n",
              " '__numbers_dict',\n",
              " '__package__',\n",
              " '__spec__',\n",
              " '_lex_richness_herdan',\n",
              " '_lex_richness_maas_ttr',\n",
              " 'clean_text',\n",
              " 'defaultdict',\n",
              " 'digit2words',\n",
              " 'extract_btc_address',\n",
              " 'extract_currencies',\n",
              " 'extract_currency_symbols',\n",
              " 'extract_dates',\n",
              " 'extract_emails',\n",
              " 'extract_emojis',\n",
              " 'extract_hashtags',\n",
              " 'extract_html_tags',\n",
              " 'extract_mastercard_addr',\n",
              " 'extract_md5sha',\n",
              " 'extract_numbers',\n",
              " 'extract_pattern',\n",
              " 'extract_phone_numbers',\n",
              " 'extract_postoffice_box',\n",
              " 'extract_shortwords',\n",
              " 'extract_special_characters',\n",
              " 'extract_stopwords',\n",
              " 'extract_street_address',\n",
              " 'extract_urls',\n",
              " 'extract_userhandles',\n",
              " 'extract_visacard_addr',\n",
              " 'fix_contractions',\n",
              " 'generate_sentence',\n",
              " 'hamming_distance',\n",
              " 'inverse_df',\n",
              " 'lexical_richness',\n",
              " 'markov_chain',\n",
              " 'math',\n",
              " 'nlargest',\n",
              " 'normalize',\n",
              " 'num2words',\n",
              " 'random',\n",
              " 're',\n",
              " 'read_txt',\n",
              " 'remove_bad_quotes',\n",
              " 'remove_btc_address',\n",
              " 'remove_currencies',\n",
              " 'remove_currency_symbols',\n",
              " 'remove_custom_pattern',\n",
              " 'remove_custom_words',\n",
              " 'remove_dates',\n",
              " 'remove_emails',\n",
              " 'remove_emojis',\n",
              " 'remove_hashtags',\n",
              " 'remove_html_tags',\n",
              " 'remove_mastercard_addr',\n",
              " 'remove_md5sha',\n",
              " 'remove_multiple_spaces',\n",
              " 'remove_non_ascii',\n",
              " 'remove_numbers',\n",
              " 'remove_phone_numbers',\n",
              " 'remove_postoffice_box',\n",
              " 'remove_puncts',\n",
              " 'remove_punctuations',\n",
              " 'remove_shortwords',\n",
              " 'remove_special_characters',\n",
              " 'remove_stopwords',\n",
              " 'remove_street_address',\n",
              " 'remove_urls',\n",
              " 'remove_userhandles',\n",
              " 'remove_visacard_addr',\n",
              " 'replace_bad_quotes',\n",
              " 'replace_currencies',\n",
              " 'replace_currency_symbols',\n",
              " 'replace_dates',\n",
              " 'replace_emails',\n",
              " 'replace_emojis',\n",
              " 'replace_numbers',\n",
              " 'replace_phone_numbers',\n",
              " 'replace_special_characters',\n",
              " 'replace_term',\n",
              " 'replace_urls',\n",
              " 'string',\n",
              " 'term_freq',\n",
              " 'to_txt',\n",
              " 'word_freq',\n",
              " 'word_length_freq']"
            ]
          },
          "metadata": {
            "tags": []
          },
          "execution_count": 268
        }
      ]
    },
    {
      "cell_type": "code",
      "metadata": {
        "collapsed": true,
        "jupyter": {
          "outputs_hidden": true
        },
        "id": "LDr25zUOnnWj",
        "colab": {
          "base_uri": "https://localhost:8080/"
        },
        "outputId": "6f806b84-6cea-4029-b044-714bba94b998"
      },
      "source": [
        "# Explore For Noise\n",
        "df['title'].apply(nfx.remove_stopwords)"
      ],
      "execution_count": 269,
      "outputs": [
        {
          "output_type": "execute_result",
          "data": {
            "text/plain": [
              "0      Flask-SQLAlchemy - tables/databases created de...\n",
              "1                    Combining PHP variables MySQL query\n",
              "2      'Counting' number records match certain criter...\n",
              "3         Insert new row table auto id number. Php MySQL\n",
              "4                       Create Multiple MySQL tables PHP\n",
              "                             ...                        \n",
              "141                      mysql Count Distinct result php\n",
              "142    store result radio button database value, data...\n",
              "143                 Use SQL count result statement - PHP\n",
              "144                 Use SQL count result statement - PHP\n",
              "145                 Use SQL count result statement - PHP\n",
              "Name: title, Length: 146, dtype: object"
            ]
          },
          "metadata": {
            "tags": []
          },
          "execution_count": 269
        }
      ]
    },
    {
      "cell_type": "code",
      "metadata": {
        "id": "kKZ8tNT0nnWl"
      },
      "source": [
        "corpus = df['title'].apply(nfx.remove_stopwords)"
      ],
      "execution_count": 270,
      "outputs": []
    },
    {
      "cell_type": "markdown",
      "metadata": {
        "id": "D9ZXOGZ9nnWm"
      },
      "source": [
        "### Feature Engineering\n",
        "+ Build features from our text\n",
        "+ TFIDF,countvectorizer,bow"
      ]
    },
    {
      "cell_type": "code",
      "metadata": {
        "id": "dZbwwX3EnnWn"
      },
      "source": [
        "tfidf = TfidfVectorizer()"
      ],
      "execution_count": 271,
      "outputs": []
    },
    {
      "cell_type": "code",
      "metadata": {
        "id": "BGBkXBmMnnWo",
        "colab": {
          "base_uri": "https://localhost:8080/"
        },
        "outputId": "f685e2de-7132-45fe-f7e4-f937651db5f9"
      },
      "source": [
        "tfidf"
      ],
      "execution_count": 272,
      "outputs": [
        {
          "output_type": "execute_result",
          "data": {
            "text/plain": [
              "TfidfVectorizer(analyzer='word', binary=False, decode_error='strict',\n",
              "                dtype=<class 'numpy.float64'>, encoding='utf-8',\n",
              "                input='content', lowercase=True, max_df=1.0, max_features=None,\n",
              "                min_df=1, ngram_range=(1, 1), norm='l2', preprocessor=None,\n",
              "                smooth_idf=True, stop_words=None, strip_accents=None,\n",
              "                sublinear_tf=False, token_pattern='(?u)\\\\b\\\\w\\\\w+\\\\b',\n",
              "                tokenizer=None, use_idf=True, vocabulary=None)"
            ]
          },
          "metadata": {
            "tags": []
          },
          "execution_count": 272
        }
      ]
    },
    {
      "cell_type": "code",
      "metadata": {
        "id": "PgJYzZthnnWq"
      },
      "source": [
        "# Build Features\n",
        "Xfeatures = tfidf.fit_transform(corpus).toarray()"
      ],
      "execution_count": 273,
      "outputs": []
    },
    {
      "cell_type": "code",
      "metadata": {
        "collapsed": true,
        "jupyter": {
          "outputs_hidden": true
        },
        "id": "aw1JG1X3nnWr",
        "colab": {
          "base_uri": "https://localhost:8080/"
        },
        "outputId": "67b304f6-2083-4305-ae85-bfd6755b4a58"
      },
      "source": [
        "Xfeatures"
      ],
      "execution_count": 274,
      "outputs": [
        {
          "output_type": "execute_result",
          "data": {
            "text/plain": [
              "array([[0., 0., 0., ..., 0., 0., 0.],\n",
              "       [0., 0., 0., ..., 0., 0., 0.],\n",
              "       [0., 0., 0., ..., 0., 0., 0.],\n",
              "       ...,\n",
              "       [0., 0., 0., ..., 0., 0., 0.],\n",
              "       [0., 0., 0., ..., 0., 0., 0.],\n",
              "       [0., 0., 0., ..., 0., 0., 0.]])"
            ]
          },
          "metadata": {
            "tags": []
          },
          "execution_count": 274
        }
      ]
    },
    {
      "cell_type": "code",
      "metadata": {
        "collapsed": true,
        "jupyter": {
          "outputs_hidden": true
        },
        "id": "tC9ict91nnWs",
        "colab": {
          "base_uri": "https://localhost:8080/",
          "height": 198
        },
        "outputId": "ce0ba808-cad6-4d26-a928-531c0b240d9b"
      },
      "source": [
        "df.head()"
      ],
      "execution_count": 275,
      "outputs": [
        {
          "output_type": "execute_result",
          "data": {
            "text/html": [
              "<div>\n",
              "<style scoped>\n",
              "    .dataframe tbody tr th:only-of-type {\n",
              "        vertical-align: middle;\n",
              "    }\n",
              "\n",
              "    .dataframe tbody tr th {\n",
              "        vertical-align: top;\n",
              "    }\n",
              "\n",
              "    .dataframe thead th {\n",
              "        text-align: right;\n",
              "    }\n",
              "</style>\n",
              "<table border=\"1\" class=\"dataframe\">\n",
              "  <thead>\n",
              "    <tr style=\"text-align: right;\">\n",
              "      <th></th>\n",
              "      <th>title</th>\n",
              "      <th>tags</th>\n",
              "      <th>Tagsupdated</th>\n",
              "      <th>mysql</th>\n",
              "      <th>python</th>\n",
              "      <th>php</th>\n",
              "    </tr>\n",
              "  </thead>\n",
              "  <tbody>\n",
              "    <tr>\n",
              "      <th>0</th>\n",
              "      <td>Flask-SQLAlchemy - When are the tables/databas...</td>\n",
              "      <td>['python', 'mysql']</td>\n",
              "      <td>python, mysql</td>\n",
              "      <td>1.0</td>\n",
              "      <td>1</td>\n",
              "      <td>0</td>\n",
              "    </tr>\n",
              "    <tr>\n",
              "      <th>1</th>\n",
              "      <td>Combining two PHP variables for MySQL query</td>\n",
              "      <td>['php', 'mysql']</td>\n",
              "      <td>php, mysql</td>\n",
              "      <td>1.0</td>\n",
              "      <td>0</td>\n",
              "      <td>1</td>\n",
              "    </tr>\n",
              "    <tr>\n",
              "      <th>2</th>\n",
              "      <td>'Counting' the number of records that match a ...</td>\n",
              "      <td>['php', 'mysql']</td>\n",
              "      <td>php, mysql</td>\n",
              "      <td>1.0</td>\n",
              "      <td>0</td>\n",
              "      <td>1</td>\n",
              "    </tr>\n",
              "    <tr>\n",
              "      <th>3</th>\n",
              "      <td>Insert new row in a table and auto id number. ...</td>\n",
              "      <td>['php', 'mysql']</td>\n",
              "      <td>php, mysql</td>\n",
              "      <td>1.0</td>\n",
              "      <td>0</td>\n",
              "      <td>1</td>\n",
              "    </tr>\n",
              "    <tr>\n",
              "      <th>4</th>\n",
              "      <td>Create Multiple MySQL tables using PHP</td>\n",
              "      <td>['php', 'mysql']</td>\n",
              "      <td>php, mysql</td>\n",
              "      <td>1.0</td>\n",
              "      <td>0</td>\n",
              "      <td>1</td>\n",
              "    </tr>\n",
              "  </tbody>\n",
              "</table>\n",
              "</div>"
            ],
            "text/plain": [
              "                                               title  ... php\n",
              "0  Flask-SQLAlchemy - When are the tables/databas...  ...   0\n",
              "1        Combining two PHP variables for MySQL query  ...   1\n",
              "2  'Counting' the number of records that match a ...  ...   1\n",
              "3  Insert new row in a table and auto id number. ...  ...   1\n",
              "4             Create Multiple MySQL tables using PHP  ...   1\n",
              "\n",
              "[5 rows x 6 columns]"
            ]
          },
          "metadata": {
            "tags": []
          },
          "execution_count": 275
        }
      ]
    },
    {
      "cell_type": "code",
      "metadata": {
        "id": "fFYfsotInnWt"
      },
      "source": [
        "# y = df[['mysql', 'python', 'php']]\n",
        "# y\n",
        "\n"
      ],
      "execution_count": 276,
      "outputs": []
    },
    {
      "cell_type": "code",
      "metadata": {
        "colab": {
          "base_uri": "https://localhost:8080/"
        },
        "id": "_xqZHIvCfukK",
        "outputId": "fc4e63ef-59de-4726-a85c-0c8ae8b7338e"
      },
      "source": [
        "type(df['Tagsupdated'].iloc[0])\n"
      ],
      "execution_count": 277,
      "outputs": [
        {
          "output_type": "execute_result",
          "data": {
            "text/plain": [
              "str"
            ]
          },
          "metadata": {
            "tags": []
          },
          "execution_count": 277
        }
      ]
    },
    {
      "cell_type": "code",
      "metadata": {
        "colab": {
          "base_uri": "https://localhost:8080/",
          "height": 198
        },
        "id": "0I2YR4rfm6HG",
        "outputId": "81deb7a4-02fe-4878-901d-06894bc4e0a8"
      },
      "source": [
        "import ast\n",
        "# df = pd.read_csv('https://raw.githubusercontent.com/nagappanm/Python-Machine-Learning/master/Multi_Label_Text_Classification_with_Skmultilearn/data/so_dataset_updated_blank.csv')\n",
        "# df['tags'] = df['tags'].apply(lambda x: ast.literal_eval(x))\n",
        "df['Tagsupdated']=df['Tagsupdated'].fillna(\"\")\n",
        "df['Tagsupdated'] = df['Tagsupdated'].apply(lambda x: x.split(','))\n",
        "df.head()\n",
        "df.tail()"
      ],
      "execution_count": 278,
      "outputs": [
        {
          "output_type": "execute_result",
          "data": {
            "text/html": [
              "<div>\n",
              "<style scoped>\n",
              "    .dataframe tbody tr th:only-of-type {\n",
              "        vertical-align: middle;\n",
              "    }\n",
              "\n",
              "    .dataframe tbody tr th {\n",
              "        vertical-align: top;\n",
              "    }\n",
              "\n",
              "    .dataframe thead th {\n",
              "        text-align: right;\n",
              "    }\n",
              "</style>\n",
              "<table border=\"1\" class=\"dataframe\">\n",
              "  <thead>\n",
              "    <tr style=\"text-align: right;\">\n",
              "      <th></th>\n",
              "      <th>title</th>\n",
              "      <th>tags</th>\n",
              "      <th>Tagsupdated</th>\n",
              "      <th>mysql</th>\n",
              "      <th>python</th>\n",
              "      <th>php</th>\n",
              "    </tr>\n",
              "  </thead>\n",
              "  <tbody>\n",
              "    <tr>\n",
              "      <th>141</th>\n",
              "      <td>mysql Count Distinct and get result using php</td>\n",
              "      <td>['php', 'mysql']</td>\n",
              "      <td>[php,  mysql]</td>\n",
              "      <td>1.0</td>\n",
              "      <td>0</td>\n",
              "      <td>1</td>\n",
              "    </tr>\n",
              "    <tr>\n",
              "      <th>142</th>\n",
              "      <td>How to store the result of a radio button with...</td>\n",
              "      <td>['php', 'mysql']</td>\n",
              "      <td>[php,  mysql]</td>\n",
              "      <td>1.0</td>\n",
              "      <td>0</td>\n",
              "      <td>1</td>\n",
              "    </tr>\n",
              "    <tr>\n",
              "      <th>143</th>\n",
              "      <td>Use SQL count result in IF statement - PHP</td>\n",
              "      <td>['php', 'mysql']</td>\n",
              "      <td>[php,  mysql]</td>\n",
              "      <td>1.0</td>\n",
              "      <td>0</td>\n",
              "      <td>1</td>\n",
              "    </tr>\n",
              "    <tr>\n",
              "      <th>144</th>\n",
              "      <td>Use SQL count result in IF statement - PHP</td>\n",
              "      <td>['php']</td>\n",
              "      <td>[php]</td>\n",
              "      <td>0.0</td>\n",
              "      <td>0</td>\n",
              "      <td>1</td>\n",
              "    </tr>\n",
              "    <tr>\n",
              "      <th>145</th>\n",
              "      <td>Use SQL count result in IF statement - PHP</td>\n",
              "      <td>NaN</td>\n",
              "      <td>[]</td>\n",
              "      <td>0.0</td>\n",
              "      <td>0</td>\n",
              "      <td>0</td>\n",
              "    </tr>\n",
              "  </tbody>\n",
              "</table>\n",
              "</div>"
            ],
            "text/plain": [
              "                                                 title  ... php\n",
              "141      mysql Count Distinct and get result using php  ...   1\n",
              "142  How to store the result of a radio button with...  ...   1\n",
              "143         Use SQL count result in IF statement - PHP  ...   1\n",
              "144         Use SQL count result in IF statement - PHP  ...   1\n",
              "145         Use SQL count result in IF statement - PHP  ...   0\n",
              "\n",
              "[5 rows x 6 columns]"
            ]
          },
          "metadata": {
            "tags": []
          },
          "execution_count": 278
        }
      ]
    },
    {
      "cell_type": "code",
      "metadata": {
        "colab": {
          "base_uri": "https://localhost:8080/"
        },
        "id": "USZy39f7f9Xu",
        "outputId": "396cb151-2745-4048-cd02-e25ac248e9ab"
      },
      "source": [
        "type(df['Tagsupdated'].iloc[0])"
      ],
      "execution_count": 279,
      "outputs": [
        {
          "output_type": "execute_result",
          "data": {
            "text/plain": [
              "list"
            ]
          },
          "metadata": {
            "tags": []
          },
          "execution_count": 279
        }
      ]
    },
    {
      "cell_type": "code",
      "metadata": {
        "colab": {
          "base_uri": "https://localhost:8080/"
        },
        "id": "UVN57leagEn0",
        "outputId": "9481e38d-fac9-422a-aa2b-7fce9dfadf29"
      },
      "source": [
        "from sklearn.preprocessing import MultiLabelBinarizer\n",
        "multilabel = MultiLabelBinarizer()\n",
        "y = multilabel.fit_transform(df['Tagsupdated'])\n",
        "y"
      ],
      "execution_count": 280,
      "outputs": [
        {
          "output_type": "execute_result",
          "data": {
            "text/plain": [
              "array([[0, 1, 0, 1],\n",
              "       [0, 1, 1, 0],\n",
              "       [0, 1, 1, 0],\n",
              "       [0, 1, 1, 0],\n",
              "       [0, 1, 1, 0],\n",
              "       [0, 1, 1, 0],\n",
              "       [0, 1, 1, 0],\n",
              "       [0, 1, 0, 1],\n",
              "       [0, 1, 0, 1],\n",
              "       [0, 1, 1, 0],\n",
              "       [0, 1, 0, 1],\n",
              "       [0, 1, 0, 1],\n",
              "       [0, 1, 0, 1],\n",
              "       [0, 1, 1, 0],\n",
              "       [0, 1, 0, 1],\n",
              "       [0, 1, 0, 1],\n",
              "       [0, 1, 0, 1],\n",
              "       [0, 1, 1, 0],\n",
              "       [0, 1, 1, 0],\n",
              "       [0, 1, 1, 0],\n",
              "       [0, 1, 1, 0],\n",
              "       [0, 1, 0, 1],\n",
              "       [0, 1, 1, 0],\n",
              "       [0, 1, 1, 0],\n",
              "       [0, 1, 0, 1],\n",
              "       [0, 1, 1, 0],\n",
              "       [0, 1, 1, 0],\n",
              "       [0, 1, 1, 0],\n",
              "       [0, 1, 1, 0],\n",
              "       [0, 1, 0, 1],\n",
              "       [0, 1, 0, 1],\n",
              "       [0, 1, 1, 0],\n",
              "       [0, 1, 1, 0],\n",
              "       [0, 1, 1, 0],\n",
              "       [0, 1, 0, 1],\n",
              "       [0, 1, 0, 1],\n",
              "       [0, 1, 1, 0],\n",
              "       [0, 1, 1, 0],\n",
              "       [0, 1, 1, 0],\n",
              "       [0, 1, 1, 0],\n",
              "       [0, 1, 0, 1],\n",
              "       [0, 1, 0, 1],\n",
              "       [0, 1, 1, 0],\n",
              "       [0, 1, 0, 1],\n",
              "       [0, 1, 0, 1],\n",
              "       [0, 1, 0, 1],\n",
              "       [0, 1, 1, 0],\n",
              "       [0, 1, 0, 1],\n",
              "       [0, 1, 1, 0],\n",
              "       [0, 1, 1, 0],\n",
              "       [0, 1, 0, 1],\n",
              "       [0, 1, 1, 0],\n",
              "       [0, 1, 1, 0],\n",
              "       [0, 1, 1, 0],\n",
              "       [0, 1, 1, 0],\n",
              "       [0, 1, 1, 0],\n",
              "       [0, 1, 1, 0],\n",
              "       [0, 1, 0, 1],\n",
              "       [0, 1, 1, 0],\n",
              "       [0, 1, 0, 1],\n",
              "       [0, 1, 1, 0],\n",
              "       [0, 1, 1, 0],\n",
              "       [0, 1, 1, 0],\n",
              "       [0, 1, 1, 0],\n",
              "       [0, 1, 1, 0],\n",
              "       [0, 1, 0, 1],\n",
              "       [0, 1, 0, 1],\n",
              "       [0, 1, 0, 1],\n",
              "       [0, 1, 0, 1],\n",
              "       [0, 1, 1, 0],\n",
              "       [0, 1, 1, 0],\n",
              "       [0, 1, 1, 0],\n",
              "       [0, 1, 1, 0],\n",
              "       [0, 1, 0, 1],\n",
              "       [0, 1, 1, 0],\n",
              "       [0, 1, 1, 0],\n",
              "       [0, 1, 1, 0],\n",
              "       [0, 1, 1, 0],\n",
              "       [0, 1, 1, 0],\n",
              "       [0, 1, 0, 1],\n",
              "       [0, 1, 0, 1],\n",
              "       [0, 1, 1, 0],\n",
              "       [0, 1, 0, 1],\n",
              "       [0, 1, 0, 1],\n",
              "       [0, 1, 0, 1],\n",
              "       [0, 1, 0, 1],\n",
              "       [0, 1, 1, 0],\n",
              "       [0, 1, 0, 1],\n",
              "       [0, 1, 0, 1],\n",
              "       [0, 1, 1, 0],\n",
              "       [0, 1, 0, 1],\n",
              "       [0, 1, 1, 0],\n",
              "       [0, 1, 1, 0],\n",
              "       [0, 1, 0, 1],\n",
              "       [0, 1, 1, 0],\n",
              "       [0, 1, 1, 0],\n",
              "       [0, 1, 0, 1],\n",
              "       [0, 1, 1, 0],\n",
              "       [0, 1, 0, 1],\n",
              "       [0, 1, 1, 0],\n",
              "       [0, 1, 0, 1],\n",
              "       [0, 1, 1, 0],\n",
              "       [0, 1, 0, 1],\n",
              "       [0, 1, 0, 1],\n",
              "       [0, 1, 0, 1],\n",
              "       [0, 1, 1, 0],\n",
              "       [0, 1, 1, 0],\n",
              "       [0, 1, 0, 1],\n",
              "       [0, 1, 0, 1],\n",
              "       [0, 1, 1, 0],\n",
              "       [0, 1, 1, 0],\n",
              "       [0, 1, 1, 0],\n",
              "       [0, 1, 1, 0],\n",
              "       [0, 1, 1, 0],\n",
              "       [0, 1, 1, 0],\n",
              "       [0, 1, 1, 0],\n",
              "       [0, 1, 1, 0],\n",
              "       [0, 1, 1, 0],\n",
              "       [0, 1, 0, 1],\n",
              "       [0, 1, 0, 1],\n",
              "       [0, 1, 0, 1],\n",
              "       [0, 1, 1, 0],\n",
              "       [0, 1, 0, 1],\n",
              "       [0, 1, 1, 0],\n",
              "       [0, 1, 0, 1],\n",
              "       [0, 1, 1, 0],\n",
              "       [0, 1, 0, 1],\n",
              "       [0, 1, 1, 0],\n",
              "       [0, 1, 0, 1],\n",
              "       [0, 1, 1, 0],\n",
              "       [0, 1, 0, 1],\n",
              "       [0, 1, 1, 0],\n",
              "       [0, 1, 1, 0],\n",
              "       [0, 1, 0, 1],\n",
              "       [0, 1, 0, 1],\n",
              "       [0, 1, 0, 1],\n",
              "       [0, 1, 0, 1],\n",
              "       [0, 1, 1, 0],\n",
              "       [0, 1, 0, 1],\n",
              "       [0, 1, 0, 1],\n",
              "       [0, 1, 0, 1],\n",
              "       [0, 1, 1, 0],\n",
              "       [0, 1, 1, 0],\n",
              "       [0, 1, 1, 0],\n",
              "       [0, 0, 1, 0],\n",
              "       [1, 0, 0, 0]])"
            ]
          },
          "metadata": {
            "tags": []
          },
          "execution_count": 280
        }
      ]
    },
    {
      "cell_type": "code",
      "metadata": {
        "colab": {
          "base_uri": "https://localhost:8080/"
        },
        "id": "kUHgAghPdqWy",
        "outputId": "c2873d6a-098b-48de-e497-6b366b15fc59"
      },
      "source": [
        "multilabel.classes_"
      ],
      "execution_count": 281,
      "outputs": [
        {
          "output_type": "execute_result",
          "data": {
            "text/plain": [
              "array(['', ' mysql', 'php', 'python'], dtype=object)"
            ]
          },
          "metadata": {
            "tags": []
          },
          "execution_count": 281
        }
      ]
    },
    {
      "cell_type": "code",
      "metadata": {
        "id": "rct0G7TSnnWv"
      },
      "source": [
        "# Split Data \n",
        "X_train,X_test,y_train,y_test = train_test_split(Xfeatures,y,test_size=0.3,random_state=42)"
      ],
      "execution_count": 282,
      "outputs": []
    },
    {
      "cell_type": "code",
      "metadata": {
        "id": "iL16Lp2CnnWw",
        "colab": {
          "base_uri": "https://localhost:8080/"
        },
        "outputId": "5f64c21b-012e-48d1-dc8a-51f47a68e780"
      },
      "source": [
        "print(df['title'].shape)\n",
        "print(X_train.shape)"
      ],
      "execution_count": 283,
      "outputs": [
        {
          "output_type": "stream",
          "text": [
            "(146,)\n",
            "(102, 404)\n"
          ],
          "name": "stdout"
        }
      ]
    },
    {
      "cell_type": "code",
      "metadata": {
        "id": "yOF5OD6QnnWx"
      },
      "source": [
        "# Building Our Model\n",
        "# Estimator + Multilabel Estimator"
      ],
      "execution_count": 284,
      "outputs": []
    },
    {
      "cell_type": "code",
      "metadata": {
        "id": "NO2ZF4SNnnWy"
      },
      "source": [
        "### Problem Transform\n",
        "import skmultilearn"
      ],
      "execution_count": 285,
      "outputs": []
    },
    {
      "cell_type": "code",
      "metadata": {
        "id": "Uc91qcNonnWz",
        "colab": {
          "base_uri": "https://localhost:8080/"
        },
        "outputId": "a881c5a9-a4e8-4c83-8133-0f3a27011412"
      },
      "source": [
        "dir(skmultilearn)"
      ],
      "execution_count": 286,
      "outputs": [
        {
          "output_type": "execute_result",
          "data": {
            "text/plain": [
              "['__builtins__',\n",
              " '__cached__',\n",
              " '__doc__',\n",
              " '__file__',\n",
              " '__loader__',\n",
              " '__name__',\n",
              " '__package__',\n",
              " '__path__',\n",
              " '__spec__',\n",
              " 'adapt',\n",
              " 'base',\n",
              " 'problem_transform',\n",
              " 'utils']"
            ]
          },
          "metadata": {
            "tags": []
          },
          "execution_count": 286
        }
      ]
    },
    {
      "cell_type": "markdown",
      "metadata": {
        "id": "FKz_DyuEnnW0"
      },
      "source": [
        "### Binary Relevance classficiation\n",
        "+ Convert Our Multi-Label Prob to Multi-Class\n",
        "\n",
        "![](https://github.com/Jcharis/Python-Machine-Learning/blob/master/Multi_Label_Text_Classification_with_Skmultilearn/binary_relevance_multilabel_ml_jcharistech.png?raw=1)"
      ]
    },
    {
      "cell_type": "code",
      "metadata": {
        "id": "xpZYduo9nnW1"
      },
      "source": [
        "# Convert Our Multi-Label Prob to Multi-Class\n",
        "# binary classficiation\n",
        "binary_rel_clf = BinaryRelevance(MultinomialNB())"
      ],
      "execution_count": 287,
      "outputs": []
    },
    {
      "cell_type": "code",
      "metadata": {
        "id": "WqhdV_e_nnW2",
        "colab": {
          "base_uri": "https://localhost:8080/"
        },
        "outputId": "84cd50dd-2e0a-4738-bea7-5332359027e2"
      },
      "source": [
        "binary_rel_clf.fit(X_train,y_train)"
      ],
      "execution_count": 318,
      "outputs": [
        {
          "output_type": "execute_result",
          "data": {
            "text/plain": [
              "BinaryRelevance(classifier=MultinomialNB(alpha=1.0, class_prior=None,\n",
              "                                         fit_prior=True),\n",
              "                require_dense=[True, True])"
            ]
          },
          "metadata": {
            "tags": []
          },
          "execution_count": 318
        }
      ]
    },
    {
      "cell_type": "code",
      "metadata": {
        "id": "wyhNERZannW4"
      },
      "source": [
        "# Predictions\n",
        "br_prediction = binary_rel_clf.predict(X_test)"
      ],
      "execution_count": 289,
      "outputs": []
    },
    {
      "cell_type": "code",
      "metadata": {
        "colab": {
          "base_uri": "https://localhost:8080/"
        },
        "id": "oZEPWOmwcWJ2",
        "outputId": "107fca5e-a56d-4494-8c8c-b7fb40603880"
      },
      "source": [
        "# x = [ 'how to write ml code in python and java i have data but do not know how to do it','java data but do not know how to do it']\n",
        "x = [ 'how to write code python']\n",
        "xt = tfidf.transform(x)\n",
        "multilabel.inverse_transform(binary_rel_clf.predict(xt))\n"
      ],
      "execution_count": 324,
      "outputs": [
        {
          "output_type": "execute_result",
          "data": {
            "text/plain": [
              "[(' mysql', 'python')]"
            ]
          },
          "metadata": {
            "tags": []
          },
          "execution_count": 324
        }
      ]
    },
    {
      "cell_type": "code",
      "metadata": {
        "colab": {
          "base_uri": "https://localhost:8080/"
        },
        "id": "AAj8Eg0ncHyu",
        "outputId": "d11f8e70-3767-4dfa-92fe-d5867eced105"
      },
      "source": [
        "pip install scikit-multilearn"
      ],
      "execution_count": 290,
      "outputs": [
        {
          "output_type": "stream",
          "text": [
            "Requirement already satisfied: scikit-multilearn in /usr/local/lib/python3.7/dist-packages (0.2.0)\n"
          ],
          "name": "stdout"
        }
      ]
    },
    {
      "cell_type": "code",
      "metadata": {
        "id": "s5iIjm5hnnW4",
        "colab": {
          "base_uri": "https://localhost:8080/"
        },
        "outputId": "3997df10-9b09-42e1-c767-deb7c1acf01b"
      },
      "source": [
        "br_prediction\n",
        "inverseTransformList = multilabel.inverse_transform(br_prediction)\n",
        "inverseTransformList"
      ],
      "execution_count": 291,
      "outputs": [
        {
          "output_type": "execute_result",
          "data": {
            "text/plain": [
              "[(' mysql', 'python'),\n",
              " (' mysql', 'php'),\n",
              " (' mysql', 'php'),\n",
              " (' mysql', 'php'),\n",
              " (' mysql', 'php'),\n",
              " (' mysql', 'php'),\n",
              " (' mysql', 'php'),\n",
              " (' mysql', 'python'),\n",
              " (' mysql', 'php'),\n",
              " (' mysql', 'php'),\n",
              " (' mysql', 'php'),\n",
              " (' mysql', 'php'),\n",
              " (' mysql', 'php'),\n",
              " (' mysql', 'php'),\n",
              " (' mysql', 'php'),\n",
              " (' mysql', 'php'),\n",
              " (' mysql', 'php'),\n",
              " (' mysql', 'python'),\n",
              " (' mysql', 'python'),\n",
              " (' mysql', 'php'),\n",
              " (' mysql', 'python'),\n",
              " (' mysql', 'python'),\n",
              " (' mysql', 'python'),\n",
              " (' mysql', 'python'),\n",
              " (' mysql', 'python'),\n",
              " (' mysql', 'python'),\n",
              " (' mysql', 'php'),\n",
              " (' mysql', 'php'),\n",
              " (' mysql', 'php'),\n",
              " (' mysql', 'php'),\n",
              " (' mysql', 'php'),\n",
              " (' mysql', 'php'),\n",
              " (' mysql', 'php'),\n",
              " (' mysql', 'python'),\n",
              " (' mysql', 'php'),\n",
              " (' mysql', 'python'),\n",
              " (' mysql', 'python'),\n",
              " (' mysql', 'python'),\n",
              " (' mysql', 'python'),\n",
              " (' mysql', 'php'),\n",
              " (' mysql', 'python'),\n",
              " (' mysql', 'python'),\n",
              " (' mysql', 'php'),\n",
              " (' mysql', 'python')]"
            ]
          },
          "metadata": {
            "tags": []
          },
          "execution_count": 291
        }
      ]
    },
    {
      "cell_type": "code",
      "metadata": {
        "collapsed": true,
        "jupyter": {
          "outputs_hidden": true
        },
        "id": "U4psdT2tnnW6",
        "colab": {
          "base_uri": "https://localhost:8080/"
        },
        "outputId": "873d8686-6d77-44d9-b47b-8bbeba7f995b"
      },
      "source": [
        "# Convert to Array  To See Result\n",
        "br_prediction.toarray()"
      ],
      "execution_count": 292,
      "outputs": [
        {
          "output_type": "execute_result",
          "data": {
            "text/plain": [
              "array([[0, 1, 0, 1],\n",
              "       [0, 1, 1, 0],\n",
              "       [0, 1, 1, 0],\n",
              "       [0, 1, 1, 0],\n",
              "       [0, 1, 1, 0],\n",
              "       [0, 1, 1, 0],\n",
              "       [0, 1, 1, 0],\n",
              "       [0, 1, 0, 1],\n",
              "       [0, 1, 1, 0],\n",
              "       [0, 1, 1, 0],\n",
              "       [0, 1, 1, 0],\n",
              "       [0, 1, 1, 0],\n",
              "       [0, 1, 1, 0],\n",
              "       [0, 1, 1, 0],\n",
              "       [0, 1, 1, 0],\n",
              "       [0, 1, 1, 0],\n",
              "       [0, 1, 1, 0],\n",
              "       [0, 1, 0, 1],\n",
              "       [0, 1, 0, 1],\n",
              "       [0, 1, 1, 0],\n",
              "       [0, 1, 0, 1],\n",
              "       [0, 1, 0, 1],\n",
              "       [0, 1, 0, 1],\n",
              "       [0, 1, 0, 1],\n",
              "       [0, 1, 0, 1],\n",
              "       [0, 1, 0, 1],\n",
              "       [0, 1, 1, 0],\n",
              "       [0, 1, 1, 0],\n",
              "       [0, 1, 1, 0],\n",
              "       [0, 1, 1, 0],\n",
              "       [0, 1, 1, 0],\n",
              "       [0, 1, 1, 0],\n",
              "       [0, 1, 1, 0],\n",
              "       [0, 1, 0, 1],\n",
              "       [0, 1, 1, 0],\n",
              "       [0, 1, 0, 1],\n",
              "       [0, 1, 0, 1],\n",
              "       [0, 1, 0, 1],\n",
              "       [0, 1, 0, 1],\n",
              "       [0, 1, 1, 0],\n",
              "       [0, 1, 0, 1],\n",
              "       [0, 1, 0, 1],\n",
              "       [0, 1, 1, 0],\n",
              "       [0, 1, 0, 1]], dtype=int64)"
            ]
          },
          "metadata": {
            "tags": []
          },
          "execution_count": 292
        }
      ]
    },
    {
      "cell_type": "code",
      "metadata": {
        "id": "0fGjBHydnnW8",
        "colab": {
          "base_uri": "https://localhost:8080/"
        },
        "outputId": "4cf69fcf-9505-4f3a-ca1c-66ef6c335f53"
      },
      "source": [
        "# Accuracy\n",
        "accuracy_score(y_test,br_prediction)"
      ],
      "execution_count": 293,
      "outputs": [
        {
          "output_type": "execute_result",
          "data": {
            "text/plain": [
              "0.8636363636363636"
            ]
          },
          "metadata": {
            "tags": []
          },
          "execution_count": 293
        }
      ]
    },
    {
      "cell_type": "code",
      "metadata": {
        "id": "OJT2B4R7nnW-",
        "colab": {
          "base_uri": "https://localhost:8080/"
        },
        "outputId": "76a43479-dd78-4e94-859f-53badecfc9f3"
      },
      "source": [
        "# Hamming Loss :Incorrect Predictions\n",
        "# The Lower the result the better\n",
        "hamming_loss(y_test,br_prediction)"
      ],
      "execution_count": 294,
      "outputs": [
        {
          "output_type": "execute_result",
          "data": {
            "text/plain": [
              "0.06818181818181818"
            ]
          },
          "metadata": {
            "tags": []
          },
          "execution_count": 294
        }
      ]
    },
    {
      "cell_type": "markdown",
      "metadata": {
        "id": "gLFGZKzynnW_"
      },
      "source": [
        "#### Classifier Chains\n",
        "+ Preserve Label Correlation\n",
        "\n",
        "![](https://github.com/Jcharis/Python-Machine-Learning/blob/master/Multi_Label_Text_Classification_with_Skmultilearn/classifier_chains_multilabel_jcharistech.png?raw=1)"
      ]
    },
    {
      "cell_type": "code",
      "metadata": {
        "jupyter": {
          "source_hidden": true
        },
        "id": "Uh87RXDsnnXA"
      },
      "source": [
        "def build_model(model,mlb_estimator,xtrain,ytrain,xtest,ytest):\n",
        "    # Create an Instance\n",
        "    clf = mlb_estimator(model)\n",
        "    clf.fit(xtrain,ytrain)\n",
        "    # Predict\n",
        "    clf_predictions = clf.predict(xtest)\n",
        "    # Check For Accuracy\n",
        "    acc = accuracy_score(ytest,clf_predictions)\n",
        "    ham = hamming_loss(ytest,clf_predictions)\n",
        "    result = {\"accuracy:\":acc,\"hamming_score\":ham}\n",
        "    return result"
      ],
      "execution_count": 315,
      "outputs": []
    },
    {
      "cell_type": "code",
      "metadata": {
        "id": "Z1wFLbthnnXB"
      },
      "source": [
        "clf_chain_model = build_model(MultinomialNB(),ClassifierChain,X_train,y_train,X_test,y_test)"
      ],
      "execution_count": 326,
      "outputs": []
    },
    {
      "cell_type": "code",
      "metadata": {
        "id": "nbaPLrUknnXC",
        "colab": {
          "base_uri": "https://localhost:8080/"
        },
        "outputId": "247dad90-7411-42bb-b7fa-659900e79f1f"
      },
      "source": [
        "clf_chain_model"
      ],
      "execution_count": 327,
      "outputs": [
        {
          "output_type": "execute_result",
          "data": {
            "text/plain": [
              "{'accuracy:': 0.7727272727272727, 'hamming_score': 0.11363636363636363}"
            ]
          },
          "metadata": {
            "tags": []
          },
          "execution_count": 327
        }
      ]
    },
    {
      "cell_type": "code",
      "metadata": {
        "colab": {
          "base_uri": "https://localhost:8080/"
        },
        "id": "lagFzh2y1rcu",
        "outputId": "3b47c515-cb9e-4ea5-daf2-100952a461b0"
      },
      "source": [
        "clf = ClassifierChain(MultinomialNB())\n",
        "clf.fit(X_train,y_train)"
      ],
      "execution_count": 330,
      "outputs": [
        {
          "output_type": "execute_result",
          "data": {
            "text/plain": [
              "ClassifierChain(classifier=MultinomialNB(alpha=1.0, class_prior=None,\n",
              "                                         fit_prior=True),\n",
              "                order=None, require_dense=[True, True])"
            ]
          },
          "metadata": {
            "tags": []
          },
          "execution_count": 330
        }
      ]
    },
    {
      "cell_type": "code",
      "metadata": {
        "colab": {
          "base_uri": "https://localhost:8080/"
        },
        "id": "NhLlgaEA3xhw",
        "outputId": "09069d75-2b6f-4df9-daa0-facb878ac8b8"
      },
      "source": [
        "# x = [ 'how to write ml code in python and java i have data but do not know how to do it','java data but do not know how to do it']\n",
        "x = [ 'how to write code python']\n",
        "xt = tfidf.transform(x)\n",
        "multilabel.inverse_transform(clf.predict(xt))"
      ],
      "execution_count": 336,
      "outputs": [
        {
          "output_type": "execute_result",
          "data": {
            "text/plain": [
              "[(' mysql', 'php')]"
            ]
          },
          "metadata": {
            "tags": []
          },
          "execution_count": 336
        }
      ]
    },
    {
      "cell_type": "markdown",
      "metadata": {
        "id": "FPSzwZ96nnXE"
      },
      "source": [
        "#### LabelPowerset\n",
        "![](https://github.com/Jcharis/Python-Machine-Learning/blob/master/Multi_Label_Text_Classification_with_Skmultilearn/labelPowerset_multilabel_ml_jcharistech.png?raw=1)"
      ]
    },
    {
      "cell_type": "code",
      "metadata": {
        "id": "u9UYL8u9nnXF"
      },
      "source": [
        "clf_labelP_model = build_model(MultinomialNB(),LabelPowerset,X_train,y_train,X_test,y_test)"
      ],
      "execution_count": 340,
      "outputs": []
    },
    {
      "cell_type": "code",
      "metadata": {
        "id": "vVwDb97NnnXI",
        "colab": {
          "base_uri": "https://localhost:8080/"
        },
        "outputId": "422b4ff0-92b4-43d4-f34b-aefd76c15954"
      },
      "source": [
        "clf_labelP_model"
      ],
      "execution_count": 341,
      "outputs": [
        {
          "output_type": "execute_result",
          "data": {
            "text/plain": [
              "{'accuracy:': 0.8636363636363636, 'hamming_score': 0.06818181818181818}"
            ]
          },
          "metadata": {
            "tags": []
          },
          "execution_count": 341
        }
      ]
    },
    {
      "cell_type": "code",
      "metadata": {
        "id": "XUPX-24EnnXJ"
      },
      "source": [
        "### Apply On A Simple Ttitle/Question"
      ],
      "execution_count": 300,
      "outputs": []
    },
    {
      "cell_type": "code",
      "metadata": {
        "id": "xalciP4InnXL",
        "colab": {
          "base_uri": "https://localhost:8080/",
          "height": 35
        },
        "outputId": "7506f9b4-9baf-4984-91e6-f902d66413ad"
      },
      "source": [
        "ex1 = df['title'].iloc[0]\n",
        "ex1"
      ],
      "execution_count": 338,
      "outputs": [
        {
          "output_type": "execute_result",
          "data": {
            "application/vnd.google.colaboratory.intrinsic+json": {
              "type": "string"
            },
            "text/plain": [
              "'Flask-SQLAlchemy - When are the tables/databases created and destroyed?'"
            ]
          },
          "metadata": {
            "tags": []
          },
          "execution_count": 338
        }
      ]
    },
    {
      "cell_type": "code",
      "metadata": {
        "id": "jvGf02dOnnXM"
      },
      "source": [
        "# Vectorized \n",
        "vec_example = tfidf.transform([ex1])"
      ],
      "execution_count": 339,
      "outputs": []
    },
    {
      "cell_type": "code",
      "metadata": {
        "id": "C0GyJffAnnXN",
        "colab": {
          "base_uri": "https://localhost:8080/"
        },
        "outputId": "874654fb-3bb9-4ae6-beb3-bdd5338a487a"
      },
      "source": [
        "# Make our prediction\n",
        "binary_rel_clf.predict(vec_example).toarray()"
      ],
      "execution_count": 342,
      "outputs": [
        {
          "output_type": "execute_result",
          "data": {
            "text/plain": [
              "array([[0, 1, 0, 1]], dtype=int64)"
            ]
          },
          "metadata": {
            "tags": []
          },
          "execution_count": 342
        }
      ]
    },
    {
      "cell_type": "code",
      "metadata": {
        "colab": {
          "base_uri": "https://localhost:8080/"
        },
        "id": "AkxbxbO94oGN",
        "outputId": "3588bb39-2378-422b-8ea6-24bf974f8e9e"
      },
      "source": [
        "multilabel.inverse_transform(binary_rel_clf.predict(vec_example))"
      ],
      "execution_count": 343,
      "outputs": [
        {
          "output_type": "execute_result",
          "data": {
            "text/plain": [
              "[(' mysql', 'python')]"
            ]
          },
          "metadata": {
            "tags": []
          },
          "execution_count": 343
        }
      ]
    },
    {
      "cell_type": "code",
      "metadata": {
        "colab": {
          "base_uri": "https://localhost:8080/"
        },
        "id": "vrtkerom5Sr1",
        "outputId": "12071595-e507-4d23-e4f4-84da10c22aae"
      },
      "source": [
        "clf = LabelPowerset(MultinomialNB())\n",
        "clf.fit(X_train,y_train)"
      ],
      "execution_count": 344,
      "outputs": [
        {
          "output_type": "execute_result",
          "data": {
            "text/plain": [
              "LabelPowerset(classifier=MultinomialNB(alpha=1.0, class_prior=None,\n",
              "                                       fit_prior=True),\n",
              "              require_dense=[True, True])"
            ]
          },
          "metadata": {
            "tags": []
          },
          "execution_count": 344
        }
      ]
    },
    {
      "cell_type": "code",
      "metadata": {
        "colab": {
          "base_uri": "https://localhost:8080/"
        },
        "id": "h-8wxOxd46m_",
        "outputId": "f04145a8-b21c-401f-e491-e0f845181031"
      },
      "source": [
        "# x = [ 'how to write ml code in python and java i have data but do not know how to do it','java data but do not know how to do it']\n",
        "x = [ 'how to write code in python and java']\n",
        "xt = tfidf.transform(x)\n",
        "multilabel.inverse_transform(clf.predict(xt))"
      ],
      "execution_count": 347,
      "outputs": [
        {
          "output_type": "execute_result",
          "data": {
            "text/plain": [
              "[(' mysql', 'python')]"
            ]
          },
          "metadata": {
            "tags": []
          },
          "execution_count": 347
        }
      ]
    },
    {
      "cell_type": "code",
      "metadata": {
        "id": "fvMdkN0znnXQ"
      },
      "source": [
        "import joblib"
      ],
      "execution_count": 304,
      "outputs": []
    },
    {
      "cell_type": "code",
      "metadata": {
        "id": "xQhykAOpnnXR"
      },
      "source": [
        "# Save Model\n",
        "binary_rel_clf_file = open(\"binary_rel_clf_model_file.pkl\",\"wb\")\n",
        "joblib.dump(binary_rel_clf,binary_rel_clf_file)\n",
        "binary_rel_clf_file.close()"
      ],
      "execution_count": 305,
      "outputs": []
    },
    {
      "cell_type": "code",
      "metadata": {
        "id": "9qX_kHu-nnXS"
      },
      "source": [
        "# Save Vectorizer\n",
        "tfidf_vectorizer_file = open(\"tfidf_vectorizer_SO_tags_file.pkl\",\"wb\")\n",
        "joblib.dump(tfidf,tfidf_vectorizer_file)\n",
        "tfidf_vectorizer_file.close()"
      ],
      "execution_count": 306,
      "outputs": []
    },
    {
      "cell_type": "code",
      "metadata": {
        "id": "LIT89NVVnnXT"
      },
      "source": [
        "#### Adapted Algorithm\n",
        "from skmultilearn.adapt import MLkNN"
      ],
      "execution_count": 307,
      "outputs": []
    },
    {
      "cell_type": "code",
      "metadata": {
        "id": "yYlbV2u2nnXU"
      },
      "source": [
        "### Thanks For Watching \n",
        "### Jesus Saves @JCharisTech\n",
        "### Jesse E.Agbe(JCharis)"
      ],
      "execution_count": 308,
      "outputs": []
    },
    {
      "cell_type": "code",
      "metadata": {
        "id": "sPoW2lafnnXV"
      },
      "source": [
        ""
      ],
      "execution_count": 308,
      "outputs": []
    }
  ]
}